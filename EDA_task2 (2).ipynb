{
 "cells": [
  {
   "cell_type": "markdown",
   "id": "ba82edb3-5b43-41e3-baea-2612d3db3026",
   "metadata": {},
   "source": [
    "# Lookalike Model for Customer Recommendation\n",
    "\n",
    "## Introduction\n",
    "In this task, we are asked to build a Lookalike Model to recommend customers who are similar to a given customer based on their purchase history and profile information. The goal is to identify the top 3 lookalike customers for each of the first 20 customers in the dataset.\n",
    "\n",
    "We will use the `Cosine Similarity` measure to compare customers based on features such as their total spend, purchase frequency, and average transaction value.\n",
    "\n",
    "### Step 1: Importing Libraries\n",
    "We begin by importing the necessary libraries to process the data, perform the calculations, and visualize the results.\n"
   ]
  },
  {
   "cell_type": "code",
   "execution_count": 10,
   "id": "88866f3f-2e46-41b4-9e38-3871026a2635",
   "metadata": {},
   "outputs": [],
   "source": [
    "import pandas as pd\n",
    "from sklearn.preprocessing import StandardScaler\n",
    "from sklearn.decomposition import PCA\n",
    "from sklearn.metrics.pairwise import cosine_similarity\n",
    "import numpy as np"
   ]
  },
  {
   "cell_type": "markdown",
   "id": "e1c2feed-2b7e-4e25-ad76-3ed6115238e9",
   "metadata": {},
   "source": [
    "# We will load the three datasets (Customers.csv, Products.csv, Transactions.csv), clean them, and merge them to create a unified dataset."
   ]
  },
  {
   "cell_type": "code",
   "execution_count": 11,
   "id": "c140f468-9849-47c5-acea-20fe3ec90b91",
   "metadata": {},
   "outputs": [],
   "source": [
    "# Load datasets\n",
    "customers = pd.read_csv('Customers.csv')\n",
    "products = pd.read_csv('Products.csv')\n",
    "transactions = pd.read_csv('Transactions.csv')\n"
   ]
  },
  {
   "cell_type": "markdown",
   "id": "b9dbc633-7f6a-475f-96a5-129c2c953c4c",
   "metadata": {},
   "source": [
    "# Merging the data to combine customer info, product info, and transaction details\n"
   ]
  },
  {
   "cell_type": "code",
   "execution_count": 12,
   "id": "6075a3a8-1ab2-46af-aed0-7a796cd6f529",
   "metadata": {},
   "outputs": [],
   "source": [
    "merged_data = transactions.merge(customers, on='CustomerID', how='left').merge(products, on='ProductID', how='left')\n"
   ]
  },
  {
   "cell_type": "code",
   "execution_count": 13,
   "id": "330ef675-22ff-4169-90ba-493d89dae45f",
   "metadata": {},
   "outputs": [],
   "source": [
    "# Create additional features\n",
    "customer_data = merged_data.groupby('CustomerID').agg(\n",
    "    total_spend=('TotalValue', 'sum'),\n",
    "    purchase_frequency=('TransactionID', 'nunique'),\n",
    "    avg_transaction_value=('TotalValue', 'mean')\n",
    ").reset_index()"
   ]
  },
  {
   "cell_type": "code",
   "execution_count": 14,
   "id": "d02e9501-e0ef-4ad6-b824-7033d9f44075",
   "metadata": {},
   "outputs": [
    {
     "data": {
      "text/html": [
       "<div>\n",
       "<style scoped>\n",
       "    .dataframe tbody tr th:only-of-type {\n",
       "        vertical-align: middle;\n",
       "    }\n",
       "\n",
       "    .dataframe tbody tr th {\n",
       "        vertical-align: top;\n",
       "    }\n",
       "\n",
       "    .dataframe thead th {\n",
       "        text-align: right;\n",
       "    }\n",
       "</style>\n",
       "<table border=\"1\" class=\"dataframe\">\n",
       "  <thead>\n",
       "    <tr style=\"text-align: right;\">\n",
       "      <th></th>\n",
       "      <th>CustomerID</th>\n",
       "      <th>total_spend</th>\n",
       "      <th>purchase_frequency</th>\n",
       "      <th>avg_transaction_value</th>\n",
       "    </tr>\n",
       "  </thead>\n",
       "  <tbody>\n",
       "    <tr>\n",
       "      <th>0</th>\n",
       "      <td>C0001</td>\n",
       "      <td>3354.52</td>\n",
       "      <td>5</td>\n",
       "      <td>670.904</td>\n",
       "    </tr>\n",
       "    <tr>\n",
       "      <th>1</th>\n",
       "      <td>C0002</td>\n",
       "      <td>1862.74</td>\n",
       "      <td>4</td>\n",
       "      <td>465.685</td>\n",
       "    </tr>\n",
       "    <tr>\n",
       "      <th>2</th>\n",
       "      <td>C0003</td>\n",
       "      <td>2725.38</td>\n",
       "      <td>4</td>\n",
       "      <td>681.345</td>\n",
       "    </tr>\n",
       "    <tr>\n",
       "      <th>3</th>\n",
       "      <td>C0004</td>\n",
       "      <td>5354.88</td>\n",
       "      <td>8</td>\n",
       "      <td>669.360</td>\n",
       "    </tr>\n",
       "    <tr>\n",
       "      <th>4</th>\n",
       "      <td>C0005</td>\n",
       "      <td>2034.24</td>\n",
       "      <td>3</td>\n",
       "      <td>678.080</td>\n",
       "    </tr>\n",
       "  </tbody>\n",
       "</table>\n",
       "</div>"
      ],
      "text/plain": [
       "  CustomerID  total_spend  purchase_frequency  avg_transaction_value\n",
       "0      C0001      3354.52                   5                670.904\n",
       "1      C0002      1862.74                   4                465.685\n",
       "2      C0003      2725.38                   4                681.345\n",
       "3      C0004      5354.88                   8                669.360\n",
       "4      C0005      2034.24                   3                678.080"
      ]
     },
     "execution_count": 14,
     "metadata": {},
     "output_type": "execute_result"
    }
   ],
   "source": [
    "# Check the first few rows of the new dataset\n",
    "customer_data.head()"
   ]
  },
  {
   "cell_type": "markdown",
   "id": "86a9ac81-4e95-4a6e-979b-e01bc38fd4be",
   "metadata": {},
   "source": [
    "# We will scale the numerical features and, optionally, apply PCA for dimensionality reduction. Scaling ensures that the features are comparable, and PCA helps with reducing complexity."
   ]
  },
  {
   "cell_type": "code",
   "execution_count": 15,
   "id": "f5f90b31-6452-4786-93e1-96805d397350",
   "metadata": {},
   "outputs": [
    {
     "data": {
      "text/html": [
       "<div>\n",
       "<style scoped>\n",
       "    .dataframe tbody tr th:only-of-type {\n",
       "        vertical-align: middle;\n",
       "    }\n",
       "\n",
       "    .dataframe tbody tr th {\n",
       "        vertical-align: top;\n",
       "    }\n",
       "\n",
       "    .dataframe thead th {\n",
       "        text-align: right;\n",
       "    }\n",
       "</style>\n",
       "<table border=\"1\" class=\"dataframe\">\n",
       "  <thead>\n",
       "    <tr style=\"text-align: right;\">\n",
       "      <th></th>\n",
       "      <th>CustomerID</th>\n",
       "      <th>pca1</th>\n",
       "      <th>pca2</th>\n",
       "    </tr>\n",
       "  </thead>\n",
       "  <tbody>\n",
       "    <tr>\n",
       "      <th>0</th>\n",
       "      <td>C0001</td>\n",
       "      <td>-0.078946</td>\n",
       "      <td>-0.050559</td>\n",
       "    </tr>\n",
       "    <tr>\n",
       "      <th>1</th>\n",
       "      <td>C0002</td>\n",
       "      <td>-1.273037</td>\n",
       "      <td>-0.492051</td>\n",
       "    </tr>\n",
       "    <tr>\n",
       "      <th>2</th>\n",
       "      <td>C0003</td>\n",
       "      <td>-0.567253</td>\n",
       "      <td>0.249271</td>\n",
       "    </tr>\n",
       "    <tr>\n",
       "      <th>3</th>\n",
       "      <td>C0004</td>\n",
       "      <td>1.481057</td>\n",
       "      <td>-0.847656</td>\n",
       "    </tr>\n",
       "    <tr>\n",
       "      <th>4</th>\n",
       "      <td>C0005</td>\n",
       "      <td>-1.103176</td>\n",
       "      <td>0.502019</td>\n",
       "    </tr>\n",
       "  </tbody>\n",
       "</table>\n",
       "</div>"
      ],
      "text/plain": [
       "  CustomerID      pca1      pca2\n",
       "0      C0001 -0.078946 -0.050559\n",
       "1      C0002 -1.273037 -0.492051\n",
       "2      C0003 -0.567253  0.249271\n",
       "3      C0004  1.481057 -0.847656\n",
       "4      C0005 -1.103176  0.502019"
      ]
     },
     "execution_count": 15,
     "metadata": {},
     "output_type": "execute_result"
    }
   ],
   "source": [
    "# Scaling the features\n",
    "scaler = StandardScaler()\n",
    "customer_data_scaled = scaler.fit_transform(customer_data[['total_spend', 'purchase_frequency', 'avg_transaction_value']])\n",
    "\n",
    "# Optional: Apply PCA for dimensionality reduction (if needed for visualization)\n",
    "pca = PCA(n_components=2)  # Reduce to 2 dimensions for easier visualization\n",
    "customer_data_pca = pca.fit_transform(customer_data_scaled)\n",
    "\n",
    "# Add PCA components to the dataset\n",
    "customer_data['pca1'] = customer_data_pca[:, 0]\n",
    "customer_data['pca2'] = customer_data_pca[:, 1]\n",
    "\n",
    "# Check the transformed data\n",
    "customer_data[['CustomerID', 'pca1', 'pca2']].head()\n"
   ]
  },
  {
   "cell_type": "markdown",
   "id": "0c70369e-55b0-4691-8756-ba9e3c6d2ddb",
   "metadata": {},
   "source": [
    "# We will now calculate the Cosine Similarity between customers based on the features we created. The cosine similarity score will help us identify the most similar customers for a given customer."
   ]
  },
  {
   "cell_type": "code",
   "execution_count": 16,
   "id": "523f702f-3332-4a9b-8b97-0638fd42b725",
   "metadata": {},
   "outputs": [],
   "source": [
    "# Compute cosine similarity between customers\n",
    "cosine_sim = cosine_similarity(customer_data_scaled)\n",
    "\n",
    "# Create a function to get top N lookalikes for each customer\n",
    "def get_top_lookalikes(customer_id, top_n=3):\n",
    "    idx = customer_data[customer_data['CustomerID'] == customer_id].index[0]\n",
    "    sim_scores = list(enumerate(cosine_sim[idx]))\n",
    "    sim_scores = sorted(sim_scores, key=lambda x: x[1], reverse=True)\n",
    "    \n",
    "    # Get the top N similar customers (excluding the customer itself)\n",
    "    top_lookalikes = [customer_data.iloc[i[0]]['CustomerID'] for i in sim_scores[1:top_n+1]]\n",
    "    top_scores = [i[1] for i in sim_scores[1:top_n+1]]\n",
    "    \n",
    "    return top_lookalikes, top_scores"
   ]
  },
  {
   "cell_type": "markdown",
   "id": "765376e2-9d01-4918-993e-e718207482ff",
   "metadata": {},
   "source": [
    "# Example for CustomerID: C0001"
   ]
  },
  {
   "cell_type": "code",
   "execution_count": 17,
   "id": "20f35183-b91f-4078-9ccd-334fac041454",
   "metadata": {},
   "outputs": [
    {
     "data": {
      "text/plain": [
       "(['C0137', 'C0152', 'C0121'],\n",
       " [np.float64(0.9993600788417096),\n",
       "  np.float64(0.9956575062125335),\n",
       "  np.float64(0.9930123335059389)])"
      ]
     },
     "execution_count": 17,
     "metadata": {},
     "output_type": "execute_result"
    }
   ],
   "source": [
    "get_top_lookalikes('C0001')"
   ]
  },
  {
   "cell_type": "markdown",
   "id": "e4b320ae-92ed-4c1c-a6a2-3d4f7ac6ef85",
   "metadata": {},
   "source": [
    "# We will generate the top 3 lookalikes for the first 20 customers and store them in the required format (Lookalike.csv)."
   ]
  },
  {
   "cell_type": "code",
   "execution_count": 18,
   "id": "9c46a635-8b68-45c6-977b-a392e6e85932",
   "metadata": {},
   "outputs": [
    {
     "data": {
      "text/html": [
       "<div>\n",
       "<style scoped>\n",
       "    .dataframe tbody tr th:only-of-type {\n",
       "        vertical-align: middle;\n",
       "    }\n",
       "\n",
       "    .dataframe tbody tr th {\n",
       "        vertical-align: top;\n",
       "    }\n",
       "\n",
       "    .dataframe thead th {\n",
       "        text-align: right;\n",
       "    }\n",
       "</style>\n",
       "<table border=\"1\" class=\"dataframe\">\n",
       "  <thead>\n",
       "    <tr style=\"text-align: right;\">\n",
       "      <th></th>\n",
       "      <th>Lookalike1</th>\n",
       "      <th>Score1</th>\n",
       "      <th>Lookalike2</th>\n",
       "      <th>Score2</th>\n",
       "      <th>Lookalike3</th>\n",
       "      <th>Score3</th>\n",
       "    </tr>\n",
       "  </thead>\n",
       "  <tbody>\n",
       "    <tr>\n",
       "      <th>C0001</th>\n",
       "      <td>C0137</td>\n",
       "      <td>0.999360</td>\n",
       "      <td>C0152</td>\n",
       "      <td>0.995658</td>\n",
       "      <td>C0121</td>\n",
       "      <td>0.993012</td>\n",
       "    </tr>\n",
       "    <tr>\n",
       "      <th>C0002</th>\n",
       "      <td>C0029</td>\n",
       "      <td>0.999638</td>\n",
       "      <td>C0199</td>\n",
       "      <td>0.998867</td>\n",
       "      <td>C0010</td>\n",
       "      <td>0.998831</td>\n",
       "    </tr>\n",
       "    <tr>\n",
       "      <th>C0003</th>\n",
       "      <td>C0005</td>\n",
       "      <td>0.999894</td>\n",
       "      <td>C0178</td>\n",
       "      <td>0.999565</td>\n",
       "      <td>C0144</td>\n",
       "      <td>0.999217</td>\n",
       "    </tr>\n",
       "    <tr>\n",
       "      <th>C0004</th>\n",
       "      <td>C0067</td>\n",
       "      <td>0.999991</td>\n",
       "      <td>C0021</td>\n",
       "      <td>0.999658</td>\n",
       "      <td>C0075</td>\n",
       "      <td>0.999288</td>\n",
       "    </tr>\n",
       "    <tr>\n",
       "      <th>C0005</th>\n",
       "      <td>C0003</td>\n",
       "      <td>0.999894</td>\n",
       "      <td>C0073</td>\n",
       "      <td>0.999495</td>\n",
       "      <td>C0063</td>\n",
       "      <td>0.999259</td>\n",
       "    </tr>\n",
       "  </tbody>\n",
       "</table>\n",
       "</div>"
      ],
      "text/plain": [
       "      Lookalike1    Score1 Lookalike2    Score2 Lookalike3    Score3\n",
       "C0001      C0137  0.999360      C0152  0.995658      C0121  0.993012\n",
       "C0002      C0029  0.999638      C0199  0.998867      C0010  0.998831\n",
       "C0003      C0005  0.999894      C0178  0.999565      C0144  0.999217\n",
       "C0004      C0067  0.999991      C0021  0.999658      C0075  0.999288\n",
       "C0005      C0003  0.999894      C0073  0.999495      C0063  0.999259"
      ]
     },
     "execution_count": 18,
     "metadata": {},
     "output_type": "execute_result"
    }
   ],
   "source": [
    "# Generate top 3 lookalikes for customers C0001 to C0020\n",
    "lookalike_results = {}\n",
    "\n",
    "for customer_id in customer_data['CustomerID'][:20]:\n",
    "    lookalikes, scores = get_top_lookalikes(customer_id)\n",
    "    lookalike_results[customer_id] = {\n",
    "        'Lookalike1': lookalikes[0], 'Score1': scores[0],\n",
    "        'Lookalike2': lookalikes[1], 'Score2': scores[1],\n",
    "        'Lookalike3': lookalikes[2], 'Score3': scores[2]\n",
    "    }\n",
    "\n",
    "# Convert the results to a DataFrame\n",
    "lookalike_df = pd.DataFrame.from_dict(lookalike_results, orient='index')\n",
    "lookalike_df.to_csv('Lookalike.csv')  # Save the recommendations\n",
    "\n",
    "# Check the first few recommendations\n",
    "lookalike_df.head()\n"
   ]
  },
  {
   "cell_type": "markdown",
   "id": "b6e5211e-ee7d-49e9-ad97-be0e55e7c8ab",
   "metadata": {},
   "source": [
    "# Model Evaluation\n",
    "The cosine similarity scores for each pair of customers are very high, indicating that the model is accurately identifying similar customers based on their purchasing behavior. Similarity scores close to 1 suggest near-identical customer profiles, which is ideal for recommending lookalikes.\n",
    "\n",
    "# Business Insights:\n",
    "\n",
    "By recommending customers with similar purchasing behaviors, businesses can create targeted marketing campaigns, offer personalized discounts, and increase customer retention.\n"
   ]
  },
  {
   "cell_type": "markdown",
   "id": "3d1d0828-c2af-4bb2-b6e7-352a0b34eec0",
   "metadata": {},
   "source": [
    "# Conclusion\n",
    "In this task, we successfully built a lookalike model that recommends the top 3 similar customers based on purchasing behavior. We calculated similarity scores using cosine similarity and saved the results in a CSV file as per the assignment instructions. The model provides valuable recommendations for targeted marketing or customer retention strategies.\n",
    "\n"
   ]
  }
 ],
 "metadata": {
  "kernelspec": {
   "display_name": "Python 3 (ipykernel)",
   "language": "python",
   "name": "python3"
  },
  "language_info": {
   "codemirror_mode": {
    "name": "ipython",
    "version": 3
   },
   "file_extension": ".py",
   "mimetype": "text/x-python",
   "name": "python",
   "nbconvert_exporter": "python",
   "pygments_lexer": "ipython3",
   "version": "3.12.3"
  }
 },
 "nbformat": 4,
 "nbformat_minor": 5
}
